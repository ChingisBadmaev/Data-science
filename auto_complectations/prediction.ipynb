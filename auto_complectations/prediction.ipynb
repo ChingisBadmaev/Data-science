{
 "cells": [
  {
   "cell_type": "code",
   "execution_count": 111,
   "metadata": {},
   "outputs": [],
   "source": [
    "import numpy as np\n",
    "import pandas as pd\n",
    "import matplotlib\n",
    "import matplotlib.pyplot as plt\n",
    "from sklearn.tree import DecisionTreeClassifier\n",
    "from sklearn.neighbors import KNeighborsClassifier\n",
    "from sklearn.discriminant_analysis import LinearDiscriminantAnalysis\n",
    "from sklearn.pipeline import make_pipeline\n",
    "from sklearn.preprocessing import StandardScaler\n",
    "from sklearn.svm import SVC\n",
    "from sklearn import preprocessing\n",
    "from sklearn.model_selection import train_test_split\n",
    "from sklearn import preprocessing\n",
    "from sklearn import metrics\n",
    "from sklearn.metrics import accuracy_score"
   ]
  },
  {
   "cell_type": "code",
   "execution_count": 62,
   "metadata": {
    "scrolled": true
   },
   "outputs": [
    {
     "name": "stdout",
     "output_type": "stream",
     "text": [
      "количество классов:  37\n"
     ]
    }
   ],
   "source": [
    "data = pd.read_csv(\"update_auto_complectations.csv\")\n",
    "print('количество классов: ', data[data.columns[0]].unique().size)"
   ]
  },
  {
   "cell_type": "markdown",
   "metadata": {},
   "source": [
    "## Разбиваем на тренировочную (70% данных) и тестовую выборку (30% данных)"
   ]
  },
  {
   "cell_type": "code",
   "execution_count": 63,
   "metadata": {},
   "outputs": [],
   "source": [
    "data_train, data_test = train_test_split(data, random_state=1337, test_size=0.3)\n",
    "\n",
    "X_data_train = data_train.drop(['type_car'], axis=1)\n",
    "y_data_train = data_train['type_car']\n",
    "\n",
    "X_data_test = data_test.drop(['type_car'], axis=1)\n",
    "y_data_test = data_test['type_car']"
   ]
  },
  {
   "cell_type": "markdown",
   "metadata": {},
   "source": [
    "### Обучение модели KNeighborsClassifier"
   ]
  },
  {
   "cell_type": "code",
   "execution_count": 64,
   "metadata": {},
   "outputs": [
    {
     "data": {
      "text/plain": [
       "0.9373776908023483"
      ]
     },
     "execution_count": 64,
     "metadata": {},
     "output_type": "execute_result"
    }
   ],
   "source": [
    "# Инициализируем модель\n",
    "model = KNeighborsClassifier(n_neighbors=1)\n",
    "\n",
    "# Обучаем модель\n",
    "model.fit(X_data_train, y_data_train)\n",
    "\n",
    "# Предикт и проверка\n",
    "pred = model.predict(X_data_test)\n",
    "accuracy_score(pred, y_data_test)"
   ]
  },
  {
   "cell_type": "markdown",
   "metadata": {},
   "source": [
    "### Обучение модели DecisionTreeClassifier"
   ]
  },
  {
   "cell_type": "code",
   "execution_count": 65,
   "metadata": {},
   "outputs": [
    {
     "data": {
      "text/plain": [
       "0.9843444227005871"
      ]
     },
     "execution_count": 65,
     "metadata": {},
     "output_type": "execute_result"
    }
   ],
   "source": [
    "# Инициализируем модель\n",
    "model = DecisionTreeClassifier(random_state=42,\n",
    "                               criterion='gini',\n",
    "                               max_depth=250,\n",
    "                               min_samples_split=2,\n",
    "                               min_samples_leaf=1,\n",
    "                               class_weight=None,\n",
    "                              )\n",
    "\n",
    "# Обучаем модель\n",
    "model.fit(X_data_train, y_data_train)\n",
    "\n",
    "#Предикт и проверка\n",
    "pred = model.predict(X_data_test)\n",
    "accuracy_score(pred, y_data_test)"
   ]
  },
  {
   "cell_type": "markdown",
   "metadata": {},
   "source": [
    "### Обучение модели LinearDiscriminantAnalysis"
   ]
  },
  {
   "cell_type": "code",
   "execution_count": 66,
   "metadata": {},
   "outputs": [
    {
     "data": {
      "text/plain": [
       "0.9784735812133072"
      ]
     },
     "execution_count": 66,
     "metadata": {},
     "output_type": "execute_result"
    }
   ],
   "source": [
    "model = LinearDiscriminantAnalysis(solver='svd',\n",
    "                                   shrinkage=None,\n",
    "                                   store_covariance=0,\n",
    "                                   tol=10e-100\n",
    "                                  )\n",
    "# обучаем модель\n",
    "model.fit(X_data_train, y_data_train)\n",
    "\n",
    "#Предикт и проверка\n",
    "pred = model.predict(X_data_test)\n",
    "accuracy_score(pred, y_data_test)"
   ]
  },
  {
   "cell_type": "markdown",
   "metadata": {},
   "source": [
    "### Обучение модели SVM"
   ]
  },
  {
   "cell_type": "code",
   "execution_count": 67,
   "metadata": {},
   "outputs": [
    {
     "data": {
      "text/plain": [
       "0.9843444227005871"
      ]
     },
     "execution_count": 67,
     "metadata": {},
     "output_type": "execute_result"
    }
   ],
   "source": [
    "model = make_pipeline(StandardScaler(), SVC(gamma='auto'))\n",
    "model.fit(X_data_train, y_data_train)\n",
    "\n",
    "#Предикт и проверка\n",
    "pred = model.predict(X_data_test)\n",
    "accuracy_score(pred, y_data_test)"
   ]
  },
  {
   "cell_type": "markdown",
   "metadata": {},
   "source": [
    "## Попытаемся улучшить модель. Вспомним, что пустые значения заполняли нулями. Заполним их средним значением по столбцу."
   ]
  },
  {
   "cell_type": "code",
   "execution_count": 68,
   "metadata": {},
   "outputs": [],
   "source": [
    "data.loc[data['разгон_до_сотни'] == 0, 'Разгон до сотни'] = data['разгон_до_сотни'].mean()"
   ]
  },
  {
   "cell_type": "markdown",
   "metadata": {},
   "source": [
    "### Обучение модели KNeighborsClassifier"
   ]
  },
  {
   "cell_type": "code",
   "execution_count": 72,
   "metadata": {},
   "outputs": [
    {
     "data": {
      "text/plain": [
       "0.9373776908023483"
      ]
     },
     "execution_count": 72,
     "metadata": {},
     "output_type": "execute_result"
    }
   ],
   "source": [
    "# Инициализируем модель\n",
    "model = KNeighborsClassifier(n_neighbors=1)\n",
    "\n",
    "# Обучаем модель\n",
    "model.fit(X_data_train, y_data_train)\n",
    "\n",
    "# Предикт и проверка\n",
    "pred = model.predict(X_data_test)\n",
    "accuracy_score(pred, y_data_test)"
   ]
  },
  {
   "cell_type": "markdown",
   "metadata": {},
   "source": [
    "### Обучение модели DecisionTreeClassifier"
   ]
  },
  {
   "cell_type": "code",
   "execution_count": 75,
   "metadata": {},
   "outputs": [
    {
     "data": {
      "text/plain": [
       "0.9843444227005871"
      ]
     },
     "execution_count": 75,
     "metadata": {},
     "output_type": "execute_result"
    }
   ],
   "source": [
    "# Инициализируем модель\n",
    "model = DecisionTreeClassifier(random_state=42,\n",
    "                               criterion='gini',\n",
    "                               max_depth=500,\n",
    "                               min_samples_split=2,\n",
    "                               min_samples_leaf=1,\n",
    "                               class_weight=None,\n",
    "                              )\n",
    "\n",
    "# Обучаем модель\n",
    "model.fit(X_data_train, y_data_train)\n",
    "\n",
    "#Предикт и проверка\n",
    "pred = model.predict(X_data_test)\n",
    "accuracy_score(pred, y_data_test)"
   ]
  },
  {
   "cell_type": "markdown",
   "metadata": {},
   "source": [
    "### Обучение модели LinearDiscriminantAnalysis"
   ]
  },
  {
   "cell_type": "code",
   "execution_count": 70,
   "metadata": {},
   "outputs": [
    {
     "data": {
      "text/plain": [
       "0.9784735812133072"
      ]
     },
     "execution_count": 70,
     "metadata": {},
     "output_type": "execute_result"
    }
   ],
   "source": [
    "model = LinearDiscriminantAnalysis(solver='svd',\n",
    "                                   shrinkage=None,\n",
    "                                   store_covariance=0,\n",
    "                                   tol=10e-100\n",
    "                                  )\n",
    "# обучаем модель\n",
    "model.fit(X_data_train, y_data_train)\n",
    "\n",
    "#Предикт и проверка\n",
    "pred = model.predict(X_data_test)\n",
    "accuracy_score(pred, y_data_test)"
   ]
  },
  {
   "cell_type": "markdown",
   "metadata": {},
   "source": [
    "### Обучение модели SVM"
   ]
  },
  {
   "cell_type": "code",
   "execution_count": 71,
   "metadata": {},
   "outputs": [
    {
     "data": {
      "text/plain": [
       "0.9843444227005871"
      ]
     },
     "execution_count": 71,
     "metadata": {},
     "output_type": "execute_result"
    }
   ],
   "source": [
    "model = make_pipeline(StandardScaler(), SVC(gamma='auto'))\n",
    "model.fit(X_data_train, y_data_train)\n",
    "\n",
    "#Предикт и проверка\n",
    "pred = model.predict(X_data_test)\n",
    "accuracy_score(pred, y_data_test)"
   ]
  },
  {
   "cell_type": "markdown",
   "metadata": {},
   "source": [
    "Наибольший результат accuracy = 0.9843444227005871. Это очень хороший результат, учитывая, что было 37 классов.\n",
    "Были попытки улучшить результат через более правдоподобное значение признаков. Результат не изменился"
   ]
  },
  {
   "cell_type": "markdown",
   "metadata": {},
   "source": [
    "## Посмотрим на важность признаков"
   ]
  },
  {
   "cell_type": "code",
   "execution_count": 88,
   "metadata": {},
   "outputs": [
    {
     "data": {
      "text/html": [
       "<div>\n",
       "<style scoped>\n",
       "    .dataframe tbody tr th:only-of-type {\n",
       "        vertical-align: middle;\n",
       "    }\n",
       "\n",
       "    .dataframe tbody tr th {\n",
       "        vertical-align: top;\n",
       "    }\n",
       "\n",
       "    .dataframe thead th {\n",
       "        text-align: right;\n",
       "    }\n",
       "</style>\n",
       "<table border=\"1\" class=\"dataframe\">\n",
       "  <thead>\n",
       "    <tr style=\"text-align: right;\">\n",
       "      <th></th>\n",
       "      <th>feature</th>\n",
       "      <th>importance</th>\n",
       "    </tr>\n",
       "  </thead>\n",
       "  <tbody>\n",
       "    <tr>\n",
       "      <th>15</th>\n",
       "      <td>высота_машины</td>\n",
       "      <td>0.269260</td>\n",
       "    </tr>\n",
       "    <tr>\n",
       "      <th>13</th>\n",
       "      <td>длина_машины</td>\n",
       "      <td>0.262935</td>\n",
       "    </tr>\n",
       "    <tr>\n",
       "      <th>16</th>\n",
       "      <td>колёсная_база</td>\n",
       "      <td>0.120682</td>\n",
       "    </tr>\n",
       "    <tr>\n",
       "      <th>17</th>\n",
       "      <td>объем_багажника</td>\n",
       "      <td>0.071365</td>\n",
       "    </tr>\n",
       "    <tr>\n",
       "      <th>19</th>\n",
       "      <td>объём_топливного_бака</td>\n",
       "      <td>0.068390</td>\n",
       "    </tr>\n",
       "    <tr>\n",
       "      <th>1</th>\n",
       "      <td>doors</td>\n",
       "      <td>0.040516</td>\n",
       "    </tr>\n",
       "    <tr>\n",
       "      <th>294</th>\n",
       "      <td>brand Toyota</td>\n",
       "      <td>0.022944</td>\n",
       "    </tr>\n",
       "    <tr>\n",
       "      <th>14</th>\n",
       "      <td>ширина_машины</td>\n",
       "      <td>0.021421</td>\n",
       "    </tr>\n",
       "    <tr>\n",
       "      <th>6</th>\n",
       "      <td>количество_ступеней</td>\n",
       "      <td>0.018310</td>\n",
       "    </tr>\n",
       "    <tr>\n",
       "      <th>18</th>\n",
       "      <td>объём_багажника_максимальный</td>\n",
       "      <td>0.017479</td>\n",
       "    </tr>\n",
       "    <tr>\n",
       "      <th>10</th>\n",
       "      <td>расход_топлива_трасса</td>\n",
       "      <td>0.015068</td>\n",
       "    </tr>\n",
       "    <tr>\n",
       "      <th>295</th>\n",
       "      <td>brand Volkswagen</td>\n",
       "      <td>0.010606</td>\n",
       "    </tr>\n",
       "    <tr>\n",
       "      <th>9</th>\n",
       "      <td>расход_топлива_город</td>\n",
       "      <td>0.009541</td>\n",
       "    </tr>\n",
       "    <tr>\n",
       "      <th>7</th>\n",
       "      <td>разгон_до_сотни</td>\n",
       "      <td>0.008924</td>\n",
       "    </tr>\n",
       "    <tr>\n",
       "      <th>164</th>\n",
       "      <td>model Outback</td>\n",
       "      <td>0.005439</td>\n",
       "    </tr>\n",
       "    <tr>\n",
       "      <th>0</th>\n",
       "      <td>seats</td>\n",
       "      <td>0.005082</td>\n",
       "    </tr>\n",
       "    <tr>\n",
       "      <th>48</th>\n",
       "      <td>model A4 Avant</td>\n",
       "      <td>0.004257</td>\n",
       "    </tr>\n",
       "    <tr>\n",
       "      <th>4</th>\n",
       "      <td>мощность_двигателя</td>\n",
       "      <td>0.003608</td>\n",
       "    </tr>\n",
       "    <tr>\n",
       "      <th>60</th>\n",
       "      <td>model C AMG</td>\n",
       "      <td>0.003580</td>\n",
       "    </tr>\n",
       "    <tr>\n",
       "      <th>37</th>\n",
       "      <td>model 7 Series Sedan</td>\n",
       "      <td>0.003524</td>\n",
       "    </tr>\n",
       "    <tr>\n",
       "      <th>45</th>\n",
       "      <td>model A3 Sportback</td>\n",
       "      <td>0.003326</td>\n",
       "    </tr>\n",
       "    <tr>\n",
       "      <th>279</th>\n",
       "      <td>brand Jaguar</td>\n",
       "      <td>0.002875</td>\n",
       "    </tr>\n",
       "    <tr>\n",
       "      <th>149</th>\n",
       "      <td>model M4</td>\n",
       "      <td>0.002218</td>\n",
       "    </tr>\n",
       "    <tr>\n",
       "      <th>20</th>\n",
       "      <td>масса_автомобиля</td>\n",
       "      <td>0.001825</td>\n",
       "    </tr>\n",
       "    <tr>\n",
       "      <th>23</th>\n",
       "      <td>привод_полный</td>\n",
       "      <td>0.001819</td>\n",
       "    </tr>\n",
       "    <tr>\n",
       "      <th>150</th>\n",
       "      <td>model M5</td>\n",
       "      <td>0.001818</td>\n",
       "    </tr>\n",
       "    <tr>\n",
       "      <th>123</th>\n",
       "      <td>model Grand Cherokee SRT8</td>\n",
       "      <td>0.001780</td>\n",
       "    </tr>\n",
       "    <tr>\n",
       "      <th>3</th>\n",
       "      <td>объем_двигателя</td>\n",
       "      <td>0.001408</td>\n",
       "    </tr>\n",
       "    <tr>\n",
       "      <th>226</th>\n",
       "      <td>model Tiguan</td>\n",
       "      <td>0.000000</td>\n",
       "    </tr>\n",
       "    <tr>\n",
       "      <th>210</th>\n",
       "      <td>model Santa Fe (2018)</td>\n",
       "      <td>0.000000</td>\n",
       "    </tr>\n",
       "  </tbody>\n",
       "</table>\n",
       "</div>"
      ],
      "text/plain": [
       "                          feature  importance\n",
       "15                  высота_машины    0.269260\n",
       "13                   длина_машины    0.262935\n",
       "16                  колёсная_база    0.120682\n",
       "17                объем_багажника    0.071365\n",
       "19          объём_топливного_бака    0.068390\n",
       "1                           doors    0.040516\n",
       "294                  brand Toyota    0.022944\n",
       "14                  ширина_машины    0.021421\n",
       "6             количество_ступеней    0.018310\n",
       "18   объём_багажника_максимальный    0.017479\n",
       "10          расход_топлива_трасса    0.015068\n",
       "295              brand Volkswagen    0.010606\n",
       "9            расход_топлива_город    0.009541\n",
       "7                 разгон_до_сотни    0.008924\n",
       "164                 model Outback    0.005439\n",
       "0                           seats    0.005082\n",
       "48                 model A4 Avant    0.004257\n",
       "4              мощность_двигателя    0.003608\n",
       "60                    model C AMG    0.003580\n",
       "37           model 7 Series Sedan    0.003524\n",
       "45             model A3 Sportback    0.003326\n",
       "279                  brand Jaguar    0.002875\n",
       "149                      model M4    0.002218\n",
       "20               масса_автомобиля    0.001825\n",
       "23                  привод_полный    0.001819\n",
       "150                      model M5    0.001818\n",
       "123     model Grand Cherokee SRT8    0.001780\n",
       "3                 объем_двигателя    0.001408\n",
       "226                  model Tiguan    0.000000\n",
       "210         model Santa Fe (2018)    0.000000"
      ]
     },
     "execution_count": 88,
     "metadata": {},
     "output_type": "execute_result"
    }
   ],
   "source": [
    "variables_importance = pd.DataFrame({'feature': X_data_train.columns, 'importance': model.feature_importances_}).sort_values('importance', ascending=False)\n",
    "variables_importance.head(30)"
   ]
  },
  {
   "cell_type": "markdown",
   "metadata": {},
   "source": [
    "## Нормализуем данные, посмотрим, что получиться"
   ]
  },
  {
   "cell_type": "code",
   "execution_count": 94,
   "metadata": {
    "scrolled": true
   },
   "outputs": [
    {
     "data": {
      "text/html": [
       "<div>\n",
       "<style scoped>\n",
       "    .dataframe tbody tr th:only-of-type {\n",
       "        vertical-align: middle;\n",
       "    }\n",
       "\n",
       "    .dataframe tbody tr th {\n",
       "        vertical-align: top;\n",
       "    }\n",
       "\n",
       "    .dataframe thead th {\n",
       "        text-align: right;\n",
       "    }\n",
       "</style>\n",
       "<table border=\"1\" class=\"dataframe\">\n",
       "  <thead>\n",
       "    <tr style=\"text-align: right;\">\n",
       "      <th></th>\n",
       "      <th>seats</th>\n",
       "      <th>doors</th>\n",
       "      <th>seast</th>\n",
       "      <th>объем_двигателя</th>\n",
       "      <th>мощность_двигателя</th>\n",
       "      <th>крутящий_момент_двигателя</th>\n",
       "      <th>количество_ступеней</th>\n",
       "      <th>разгон_до_сотни</th>\n",
       "      <th>максимальная_скорость</th>\n",
       "      <th>расход_топлива_город</th>\n",
       "      <th>...</th>\n",
       "      <th>brand Volkswagen</th>\n",
       "      <th>brand Volvo</th>\n",
       "      <th>тип_двигателя бензиновый</th>\n",
       "      <th>тип_двигателя гибридный</th>\n",
       "      <th>тип_двигателя дизельный</th>\n",
       "      <th>тип_двигателя электрический</th>\n",
       "      <th>тип_коробки_передач автоматическая</th>\n",
       "      <th>тип_коробки_передач вариатор</th>\n",
       "      <th>тип_коробки_передач механическая</th>\n",
       "      <th>тип_коробки_передач роботизированная</th>\n",
       "    </tr>\n",
       "  </thead>\n",
       "  <tbody>\n",
       "    <tr>\n",
       "      <th>0</th>\n",
       "      <td>0.028192</td>\n",
       "      <td>0.028972</td>\n",
       "      <td>0.028192</td>\n",
       "      <td>0.024035</td>\n",
       "      <td>0.018314</td>\n",
       "      <td>0.028661</td>\n",
       "      <td>0.037942</td>\n",
       "      <td>0.036064</td>\n",
       "      <td>0.027165</td>\n",
       "      <td>0.000000</td>\n",
       "      <td>...</td>\n",
       "      <td>0.000000</td>\n",
       "      <td>0.0</td>\n",
       "      <td>0.000000</td>\n",
       "      <td>0.0</td>\n",
       "      <td>0.05726</td>\n",
       "      <td>0.0</td>\n",
       "      <td>0.036202</td>\n",
       "      <td>0.00000</td>\n",
       "      <td>0.0</td>\n",
       "      <td>0.0</td>\n",
       "    </tr>\n",
       "    <tr>\n",
       "      <th>1</th>\n",
       "      <td>0.028192</td>\n",
       "      <td>0.028972</td>\n",
       "      <td>0.028192</td>\n",
       "      <td>0.023890</td>\n",
       "      <td>0.018192</td>\n",
       "      <td>0.015537</td>\n",
       "      <td>0.000000</td>\n",
       "      <td>0.035420</td>\n",
       "      <td>0.026333</td>\n",
       "      <td>0.025575</td>\n",
       "      <td>...</td>\n",
       "      <td>0.000000</td>\n",
       "      <td>0.0</td>\n",
       "      <td>0.033923</td>\n",
       "      <td>0.0</td>\n",
       "      <td>0.00000</td>\n",
       "      <td>0.0</td>\n",
       "      <td>0.000000</td>\n",
       "      <td>0.09759</td>\n",
       "      <td>0.0</td>\n",
       "      <td>0.0</td>\n",
       "    </tr>\n",
       "    <tr>\n",
       "      <th>2</th>\n",
       "      <td>0.028192</td>\n",
       "      <td>0.028972</td>\n",
       "      <td>0.028192</td>\n",
       "      <td>0.024010</td>\n",
       "      <td>0.030401</td>\n",
       "      <td>0.027530</td>\n",
       "      <td>0.033726</td>\n",
       "      <td>0.022862</td>\n",
       "      <td>0.030075</td>\n",
       "      <td>0.028383</td>\n",
       "      <td>...</td>\n",
       "      <td>0.000000</td>\n",
       "      <td>0.0</td>\n",
       "      <td>0.033923</td>\n",
       "      <td>0.0</td>\n",
       "      <td>0.00000</td>\n",
       "      <td>0.0</td>\n",
       "      <td>0.036202</td>\n",
       "      <td>0.00000</td>\n",
       "      <td>0.0</td>\n",
       "      <td>0.0</td>\n",
       "    </tr>\n",
       "    <tr>\n",
       "      <th>3</th>\n",
       "      <td>0.028192</td>\n",
       "      <td>0.040561</td>\n",
       "      <td>0.028192</td>\n",
       "      <td>0.016712</td>\n",
       "      <td>0.015262</td>\n",
       "      <td>0.016593</td>\n",
       "      <td>0.029510</td>\n",
       "      <td>0.033166</td>\n",
       "      <td>0.025363</td>\n",
       "      <td>0.020897</td>\n",
       "      <td>...</td>\n",
       "      <td>0.094072</td>\n",
       "      <td>0.0</td>\n",
       "      <td>0.033923</td>\n",
       "      <td>0.0</td>\n",
       "      <td>0.00000</td>\n",
       "      <td>0.0</td>\n",
       "      <td>0.036202</td>\n",
       "      <td>0.00000</td>\n",
       "      <td>0.0</td>\n",
       "      <td>0.0</td>\n",
       "    </tr>\n",
       "    <tr>\n",
       "      <th>4</th>\n",
       "      <td>0.028192</td>\n",
       "      <td>0.028972</td>\n",
       "      <td>0.028192</td>\n",
       "      <td>0.030034</td>\n",
       "      <td>0.021366</td>\n",
       "      <td>0.017725</td>\n",
       "      <td>0.000000</td>\n",
       "      <td>0.032844</td>\n",
       "      <td>0.027442</td>\n",
       "      <td>0.031190</td>\n",
       "      <td>...</td>\n",
       "      <td>0.000000</td>\n",
       "      <td>0.0</td>\n",
       "      <td>0.033923</td>\n",
       "      <td>0.0</td>\n",
       "      <td>0.00000</td>\n",
       "      <td>0.0</td>\n",
       "      <td>0.000000</td>\n",
       "      <td>0.09759</td>\n",
       "      <td>0.0</td>\n",
       "      <td>0.0</td>\n",
       "    </tr>\n",
       "  </tbody>\n",
       "</table>\n",
       "<p>5 rows × 305 columns</p>\n",
       "</div>"
      ],
      "text/plain": [
       "      seats     doors     seast  объем_двигателя  мощность_двигателя  \\\n",
       "0  0.028192  0.028972  0.028192         0.024035            0.018314   \n",
       "1  0.028192  0.028972  0.028192         0.023890            0.018192   \n",
       "2  0.028192  0.028972  0.028192         0.024010            0.030401   \n",
       "3  0.028192  0.040561  0.028192         0.016712            0.015262   \n",
       "4  0.028192  0.028972  0.028192         0.030034            0.021366   \n",
       "\n",
       "   крутящий_момент_двигателя  количество_ступеней  разгон_до_сотни  \\\n",
       "0                   0.028661             0.037942         0.036064   \n",
       "1                   0.015537             0.000000         0.035420   \n",
       "2                   0.027530             0.033726         0.022862   \n",
       "3                   0.016593             0.029510         0.033166   \n",
       "4                   0.017725             0.000000         0.032844   \n",
       "\n",
       "   максимальная_скорость  расход_топлива_город  ...  brand Volkswagen  \\\n",
       "0               0.027165              0.000000  ...          0.000000   \n",
       "1               0.026333              0.025575  ...          0.000000   \n",
       "2               0.030075              0.028383  ...          0.000000   \n",
       "3               0.025363              0.020897  ...          0.094072   \n",
       "4               0.027442              0.031190  ...          0.000000   \n",
       "\n",
       "   brand Volvo  тип_двигателя бензиновый  тип_двигателя гибридный  \\\n",
       "0          0.0                  0.000000                      0.0   \n",
       "1          0.0                  0.033923                      0.0   \n",
       "2          0.0                  0.033923                      0.0   \n",
       "3          0.0                  0.033923                      0.0   \n",
       "4          0.0                  0.033923                      0.0   \n",
       "\n",
       "   тип_двигателя дизельный  тип_двигателя электрический  \\\n",
       "0                  0.05726                          0.0   \n",
       "1                  0.00000                          0.0   \n",
       "2                  0.00000                          0.0   \n",
       "3                  0.00000                          0.0   \n",
       "4                  0.00000                          0.0   \n",
       "\n",
       "   тип_коробки_передач автоматическая  тип_коробки_передач вариатор  \\\n",
       "0                            0.036202                       0.00000   \n",
       "1                            0.000000                       0.09759   \n",
       "2                            0.036202                       0.00000   \n",
       "3                            0.036202                       0.00000   \n",
       "4                            0.000000                       0.09759   \n",
       "\n",
       "   тип_коробки_передач механическая  тип_коробки_передач роботизированная  \n",
       "0                               0.0                                   0.0  \n",
       "1                               0.0                                   0.0  \n",
       "2                               0.0                                   0.0  \n",
       "3                               0.0                                   0.0  \n",
       "4                               0.0                                   0.0  \n",
       "\n",
       "[5 rows x 305 columns]"
      ]
     },
     "execution_count": 94,
     "metadata": {},
     "output_type": "execute_result"
    }
   ],
   "source": [
    "df_data_train = preprocessing.normalize(X_data_train, axis=0)\n",
    "df_data_test = preprocessing.normalize(X_data_test, axis=0)\n",
    "\n",
    "scaled_df = pd.DataFrame(df_data_train, columns=X_data_train.columns)\n",
    "scaled_df.head()"
   ]
  },
  {
   "cell_type": "markdown",
   "metadata": {},
   "source": [
    "### Обучение модели KNeighborsClassifier"
   ]
  },
  {
   "cell_type": "code",
   "execution_count": 102,
   "metadata": {},
   "outputs": [
    {
     "data": {
      "text/plain": [
       "0.9726027397260274"
      ]
     },
     "execution_count": 102,
     "metadata": {},
     "output_type": "execute_result"
    }
   ],
   "source": [
    "# Инициализируем модель\n",
    "model = KNeighborsClassifier(n_neighbors=1)\n",
    "\n",
    "# Обучаем модель\n",
    "model.fit(df_data_train, y_data_train)\n",
    "\n",
    "# Предикт и проверка\n",
    "pred = model.predict(df_data_test)\n",
    "accuracy_score(pred, y_data_test)"
   ]
  },
  {
   "cell_type": "markdown",
   "metadata": {},
   "source": [
    "### Обучение модели DecisionTreeClassifier"
   ]
  },
  {
   "cell_type": "code",
   "execution_count": 104,
   "metadata": {},
   "outputs": [
    {
     "data": {
      "text/plain": [
       "0.06653620352250489"
      ]
     },
     "execution_count": 104,
     "metadata": {},
     "output_type": "execute_result"
    }
   ],
   "source": [
    "# Инициализируем модель\n",
    "model = DecisionTreeClassifier(random_state=42,\n",
    "                               criterion='gini',\n",
    "                               max_depth=500,\n",
    "                               min_samples_split=2,\n",
    "                               min_samples_leaf=1,\n",
    "                               class_weight=None,\n",
    "                              )\n",
    "\n",
    "# Обучаем модель\n",
    "model.fit(df_data_train, y_data_train)\n",
    "\n",
    "#Предикт и проверка\n",
    "pred = model.predict(df_data_test)\n",
    "accuracy_score(pred, y_data_test)"
   ]
  },
  {
   "cell_type": "markdown",
   "metadata": {},
   "source": [
    "### Обучение модели LinearDiscriminantAnalysis"
   ]
  },
  {
   "cell_type": "code",
   "execution_count": 98,
   "metadata": {},
   "outputs": [
    {
     "data": {
      "text/plain": [
       "0.9275929549902152"
      ]
     },
     "execution_count": 98,
     "metadata": {},
     "output_type": "execute_result"
    }
   ],
   "source": [
    "model = LinearDiscriminantAnalysis(solver='svd',\n",
    "                                   shrinkage=None,\n",
    "                                   store_covariance=0,\n",
    "                                   tol=10e-100\n",
    "                                  )\n",
    "# обучаем модель\n",
    "model.fit(df_data_train, y_data_train)\n",
    "\n",
    "#Предикт и проверка\n",
    "pred = model.predict(df_data_test)\n",
    "accuracy_score(pred, y_data_test)"
   ]
  },
  {
   "cell_type": "markdown",
   "metadata": {},
   "source": [
    "### Обучение модели SVM"
   ]
  },
  {
   "cell_type": "code",
   "execution_count": 108,
   "metadata": {},
   "outputs": [
    {
     "data": {
      "text/plain": [
       "0.12133072407045009"
      ]
     },
     "execution_count": 108,
     "metadata": {},
     "output_type": "execute_result"
    }
   ],
   "source": [
    "# Инициализируем модель\n",
    "model = make_pipeline(StandardScaler(), SVC(gamma='auto'))\n",
    "\n",
    "# Обучаем модель\n",
    "model.fit(df_data_train, y_data_train)\n",
    "\n",
    "#Предикт и проверка\n",
    "pred = model.predict(df_data_test)\n",
    "accuracy_score(pred, y_data_test)"
   ]
  },
  {
   "cell_type": "markdown",
   "metadata": {},
   "source": [
    "Как показывают результаты, нормализация не улучшает score"
   ]
  }
 ],
 "metadata": {
  "kernelspec": {
   "display_name": "Python 3",
   "language": "python",
   "name": "python3"
  },
  "language_info": {
   "codemirror_mode": {
    "name": "ipython",
    "version": 3
   },
   "file_extension": ".py",
   "mimetype": "text/x-python",
   "name": "python",
   "nbconvert_exporter": "python",
   "pygments_lexer": "ipython3",
   "version": "3.8.3"
  }
 },
 "nbformat": 4,
 "nbformat_minor": 4
}
